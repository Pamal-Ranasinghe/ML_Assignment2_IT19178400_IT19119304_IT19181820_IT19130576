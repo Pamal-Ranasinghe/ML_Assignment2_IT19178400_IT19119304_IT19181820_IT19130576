{
 "cells": [
  {
   "cell_type": "markdown",
   "id": "ab3ed23b",
   "metadata": {},
   "source": [
    "# Importing Libraries\n"
   ]
  },
  {
   "cell_type": "code",
   "execution_count": null,
   "id": "a6264dc7",
   "metadata": {},
   "outputs": [],
   "source": [
    "#IT19178400_Ranasinghe R.A.P.T. #IT19119304_Perera J.K.H.A.K. #IT19181820_Akash Y.A.K. #IT19130576_Nanayakkara K.O.K.L.\n",
    "\n",
    "#Startup Success Prediction Using Random Forest Algorithm\n",
    "\n",
    "#Perform mathematical and statistical operations \n",
    "import numpy as np\n",
    "\n",
    "#Read data files and create data frames\n",
    "import pandas as pd\n",
    "\n",
    "#Import related to visualization\n",
    "import matplotlib.pyplot as plt\n",
    "import seaborn as sns\n",
    "\n",
    "%matplotlib inline"
   ]
  },
  {
   "cell_type": "code",
   "execution_count": null,
   "id": "ef919f4c",
   "metadata": {},
   "outputs": [],
   "source": [
    "from sklearn.preprocessing import LabelEncoder"
   ]
  },
  {
   "cell_type": "code",
   "execution_count": null,
   "id": "e1d813d7",
   "metadata": {},
   "outputs": [],
   "source": [
    "#Split data in to train set and test set\n",
    "from sklearn.model_selection import train_test_split"
   ]
  },
  {
   "cell_type": "code",
   "execution_count": null,
   "id": "5bd65d6b",
   "metadata": {},
   "outputs": [],
   "source": [
    "#Import random forest algorithm\n",
    "from sklearn.ensemble import RandomForestClassifier"
   ]
  },
  {
   "cell_type": "code",
   "execution_count": null,
   "id": "ecc1bf78",
   "metadata": {},
   "outputs": [],
   "source": [
    "#Import classification report \n",
    "from sklearn.metrics import classification_report"
   ]
  },
  {
   "cell_type": "code",
   "execution_count": null,
   "id": "69fdb23c",
   "metadata": {},
   "outputs": [],
   "source": [
    "#Import of accuracy score\n",
    "import sklearn.metrics as sm"
   ]
  },
  {
   "cell_type": "code",
   "execution_count": null,
   "id": "b600abda",
   "metadata": {},
   "outputs": [],
   "source": [
    "#Import recall score and percision score\n",
    "from sklearn.metrics import precision_score\n",
    "from sklearn.metrics import recall_score"
   ]
  },
  {
   "cell_type": "markdown",
   "id": "21123d0e",
   "metadata": {},
   "source": [
    "# Importing & Loading the dataset"
   ]
  },
  {
   "cell_type": "code",
   "execution_count": null,
   "id": "5a33ff7c",
   "metadata": {},
   "outputs": [],
   "source": [
    "#Get data from the churn.csv file to the bank_data dataframe\n",
    "startup_dataset = pd.read_csv('startup.csv')"
   ]
  },
  {
   "cell_type": "code",
   "execution_count": null,
   "id": "a383b32f",
   "metadata": {},
   "outputs": [],
   "source": [
    "startup_dataset"
   ]
  },
  {
   "cell_type": "code",
   "execution_count": null,
   "id": "0f5079fa",
   "metadata": {},
   "outputs": [],
   "source": [
    "#Get an idea about the dataset\n",
    "startup_dataset.head()"
   ]
  },
  {
   "cell_type": "markdown",
   "id": "aee9298c",
   "metadata": {},
   "source": [
    "# Dataset Info:"
   ]
  },
  {
   "cell_type": "code",
   "execution_count": null,
   "id": "604abce7",
   "metadata": {},
   "outputs": [],
   "source": [
    "#Check information related to the dataframe\n",
    "startup_dataset.info()"
   ]
  },
  {
   "cell_type": "code",
   "execution_count": null,
   "id": "7b6ae0f6",
   "metadata": {},
   "outputs": [],
   "source": [
    "#Check whether if there are any null values\n",
    "startup_dataset.isnull()"
   ]
  },
  {
   "cell_type": "code",
   "execution_count": null,
   "id": "60a82e34",
   "metadata": {},
   "outputs": [],
   "source": [
    "sum(startup_dataset.isnull().sum())"
   ]
  },
  {
   "cell_type": "code",
   "execution_count": null,
   "id": "a8972679",
   "metadata": {},
   "outputs": [],
   "source": [
    "#Display Missing values in a grid view\n",
    "nullValue=pd.DataFrame(startup_dataset.isnull().sum(),columns = [\"Null Values\"])\n",
    "nullValue[\"Missing Values (%)\"]=(startup_dataset.isna().sum() / len(startup_dataset)*100)\n",
    "nullValue = nullValue[nullValue[\"Missing Values (%)\"]  >  0]\n",
    "nullValue.style.background_gradient(cmap='magma',low =0.3,high=0.2) "
   ]
  },
  {
   "cell_type": "code",
   "execution_count": null,
   "id": "066a5b65",
   "metadata": {},
   "outputs": [],
   "source": [
    "#Handling Missing Values in 'Unnamed: 6', 'closed_at', 'age_first_milestone_year', 'age_last_milestone_year' columns\n",
    "startup_dataset['Unnamed: 6'] = startup_dataset.apply(lambda row: (row.city) + \" \" + (row.state_code) + \" \" +(row.zip_code)  , axis = 1)\n",
    "\n",
    "startup_dataset['closed_at'] = startup_dataset['closed_at'].fillna(value=\"31/12/2013\")\n",
    "\n",
    "startup_dataset['age_first_milestone_year'] = startup_dataset['age_first_milestone_year'].fillna(value=\"0\")\n",
    "\n",
    "startup_dataset['age_last_milestone_year'] = startup_dataset['age_last_milestone_year'].fillna(value=\"0\")"
   ]
  },
  {
   "cell_type": "code",
   "execution_count": null,
   "id": "727af40b",
   "metadata": {},
   "outputs": [],
   "source": [
    "#Handling Missing Values in 'state_code.1' column\n",
    "for index, row in startup_dataset.iterrows():\n",
    "    if row['state_code']!=row['state_code.1']:\n",
    "        print(index, row['state_code'], row['state_code.1'])\n",
    "        \n",
    "startup_dataset.drop([\"state_code.1\"], axis=1, inplace=True)"
   ]
  },
  {
   "cell_type": "code",
   "execution_count": null,
   "id": "2602e129",
   "metadata": {},
   "outputs": [],
   "source": [
    "#Graphical view of null values in the whole dataframe\n",
    "sns.heatmap(startup_dataset.isnull(),yticklabels=False, cbar=False, cmap='viridis')"
   ]
  },
  {
   "cell_type": "code",
   "execution_count": null,
   "id": "9f7a6399",
   "metadata": {},
   "outputs": [],
   "source": [
    "#Numerical value of the total number of null values in the data set\n",
    "total_null_values = sum(startup_dataset.isnull().sum())\n",
    "print(total_null_values)"
   ]
  }
 ],
 "metadata": {
  "kernelspec": {
   "display_name": "Python 3 (ipykernel)",
   "language": "python",
   "name": "python3"
  },
  "language_info": {
   "codemirror_mode": {
    "name": "ipython",
    "version": 3
   },
   "file_extension": ".py",
   "mimetype": "text/x-python",
   "name": "python",
   "nbconvert_exporter": "python",
   "pygments_lexer": "ipython3",
   "version": "3.9.7"
  }
 },
 "nbformat": 4,
 "nbformat_minor": 5
}
