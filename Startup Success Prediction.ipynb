{
 "cells": [
  {
   "cell_type": "code",
   "execution_count": null,
   "metadata": {},
   "outputs": [],
   "source": [
    "#IT19178400_Ranasinghe R.A.P.T. #IT19119304_Perera J.K.H.A.K. #IT19181820_Akash Y.A.K. #IT19130576_Nanayakkara K.O.K.L.\n",
    "\n",
    "#Startup Success Prediction Using Random Forest Algorithm\n",
    "\n",
    "#Perform mathematical and statistical operations \n",
    "import numpy as np\n",
    "\n",
    "#Read data files and create data frames\n",
    "import pandas as pd\n",
    "\n",
    "#Import related to visualization\n",
    "import matplotlib.pyplot as plt\n",
    "import seaborn as sns\n",
    "\n",
    "%matplotlib inline"
   ]
  },
  {
   "cell_type": "code",
   "execution_count": null,
   "id": "ef919f4c",
   "metadata": {},
   "outputs": [],
   "source": [
    "from sklearn.preprocessing import LabelEncoder"
   ]
  },
  {
   "cell_type": "code",
   "execution_count": null,
   "id": "e1d813d7",
   "metadata": {},
   "outputs": [],
   "source": [
    "#Split data in to train set and test set\n",
    "from sklearn.model_selection import train_test_split"
   ]
  },
  {
   "cell_type": "code",
   "execution_count": null,
   "id": "5bd65d6b",
   "metadata": {},
   "outputs": [],
   "source": [
    "#Import random forest algorithm\n",
    "from sklearn.ensemble import RandomForestClassifier"
   ]
  },
  {
   "cell_type": "code",
   "execution_count": null,
   "id": "ecc1bf78",
   "metadata": {},
   "outputs": [],
   "source": [
    "#Import classification report \n",
    "from sklearn.metrics import classification_report"
   ]
  },
  {
   "cell_type": "code",
   "execution_count": null,
   "id": "69fdb23c",
   "metadata": {},
   "outputs": [],
   "source": [
    "#Import of accuracy score\n",
    "import sklearn.metrics as sm"
   ]
  },
  {
   "cell_type": "code",
   "execution_count": null,
   "id": "b600abda",
   "metadata": {},
   "outputs": [],
   "source": [
    "#Import recall score and percision score\n",
    "from sklearn.metrics import precision_score\n",
    "from sklearn.metrics import recall_score"
   ]
  },
  {
   "cell_type": "code",
   "execution_count": null,
   "id": "5a33ff7c",
   "metadata": {},
   "outputs": [],
   "source": [
    "#Get data from the churn.csv file to the bank_data dataframe\n",
    "startup_dataset = pd.read_csv('startup.csv')"
   ]
  },
  {
   "cell_type": "code",
   "execution_count": null,
   "id": "a383b32f",
   "metadata": {},
   "outputs": [],
   "source": [
    "startup_dataset"
   ]
  }
 ],
 "metadata": {
  "kernelspec": {
   "display_name": "Python 3 (ipykernel)",
   "language": "python",
   "name": "python3"
  },
  "language_info": {
   "codemirror_mode": {
    "name": "ipython",
    "version": 3
   },
   "file_extension": ".py",
   "mimetype": "text/x-python",
   "name": "python",
   "nbconvert_exporter": "python",
   "pygments_lexer": "ipython3",
   "version": "3.9.7"
  }
 },
 "nbformat": 4,
 "nbformat_minor": 5
}
