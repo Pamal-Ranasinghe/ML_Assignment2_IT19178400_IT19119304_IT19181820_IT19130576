{
 "cells": [
  {
   "cell_type": "code",
   "execution_count": null,
   "metadata": {},
   "outputs": [],
   "source": [
    "#IT19178400_Ranasinghe R.A.P.T. #IT19119304_Perera J.K.H.A.K. #IT19181820_Akash Y.A.K. #IT19130576_Nanayakkara K.O.K.L.\n",
    "\n",
    "#Startup Success Prediction Using Random Forest Algorithm\n",
    "\n",
    "#Perform mathematical and statistical operations \n",
    "import numpy as np\n",
    "\n",
    "#Read data files and create data frames\n",
    "import pandas as pd\n",
    "\n",
    "#Import related to visualization\n",
    "import matplotlib.pyplot as plt\n",
    "import seaborn as sns\n",
    "\n",
    "%matplotlib inline"
   ]
  }
 ],
 "metadata": {
  "kernelspec": {
   "display_name": "Python 3 (ipykernel)",
   "language": "python",
   "name": "python3"
  },
  "language_info": {
   "codemirror_mode": {
    "name": "ipython",
    "version": 3
   },
   "file_extension": ".py",
   "mimetype": "text/x-python",
   "name": "python",
   "nbconvert_exporter": "python",
   "pygments_lexer": "ipython3",
   "version": "3.9.7"
  }
 },
 "nbformat": 4,
 "nbformat_minor": 5
}
