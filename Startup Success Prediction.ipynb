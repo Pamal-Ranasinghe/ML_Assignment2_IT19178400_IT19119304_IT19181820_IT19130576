{
 "cells": [
  {
   "cell_type": "markdown",
   "id": "ab3ed23b",
   "metadata": {},
   "source": [
    "# Importing Libraries\n"
   ]
  },
  {
   "cell_type": "code",
   "execution_count": null,
   "id": "a6264dc7",
   "metadata": {},
   "outputs": [],
   "source": [
    "#IT19178400_Ranasinghe R.A.P.T. #IT19119304_Perera J.K.H.A.K. #IT19181820_Akash Y.A.K. #IT19130576_Nanayakkara K.O.K.L.\n",
    "\n",
    "#Startup Success Prediction Using Random Forest Algorithm\n",
    "\n",
    "#Perform mathematical and statistical operations \n",
    "import numpy as np\n",
    "\n",
    "#Read data files and create data frames\n",
    "import pandas as pd\n",
    "\n",
    "#Import related to visualization\n",
    "import matplotlib.pyplot as plt\n",
    "import seaborn as sns\n",
    "\n",
    "%matplotlib inline"
   ]
  },
  {
   "cell_type": "code",
   "execution_count": null,
   "id": "ef919f4c",
   "metadata": {},
   "outputs": [],
   "source": [
    "from sklearn.preprocessing import LabelEncoder"
   ]
  },
  {
   "cell_type": "code",
   "execution_count": null,
   "id": "e1d813d7",
   "metadata": {},
   "outputs": [],
   "source": [
    "#Split data in to train set and test set\n",
    "from sklearn.model_selection import train_test_split"
   ]
  },
  {
   "cell_type": "code",
   "execution_count": null,
   "id": "5bd65d6b",
   "metadata": {},
   "outputs": [],
   "source": [
    "#Import random forest algorithm\n",
    "from sklearn.ensemble import RandomForestClassifier"
   ]
  },
  {
   "cell_type": "code",
   "execution_count": null,
   "id": "ecc1bf78",
   "metadata": {},
   "outputs": [],
   "source": [
    "#Import classification report \n",
    "from sklearn.metrics import classification_report"
   ]
  },
  {
   "cell_type": "code",
   "execution_count": null,
   "id": "69fdb23c",
   "metadata": {},
   "outputs": [],
   "source": [
    "#Import of accuracy score\n",
    "import sklearn.metrics as sm"
   ]
  },
  {
   "cell_type": "code",
   "execution_count": null,
   "id": "b600abda",
   "metadata": {},
   "outputs": [],
   "source": [
    "#Import recall score and percision score\n",
    "from sklearn.metrics import precision_score\n",
    "from sklearn.metrics import recall_score"
   ]
  },
  {
   "cell_type": "markdown",
   "id": "21123d0e",
   "metadata": {},
   "source": [
    "# Importing & Loading the dataset"
   ]
  },
  {
   "cell_type": "code",
   "execution_count": null,
   "id": "5a33ff7c",
   "metadata": {},
   "outputs": [],
   "source": [
    "#Get data from the churn.csv file to the bank_data dataframe\n",
    "startup_dataset = pd.read_csv('startup.csv')"
   ]
  },
  {
   "cell_type": "code",
   "execution_count": null,
   "id": "a383b32f",
   "metadata": {},
   "outputs": [],
   "source": [
    "startup_dataset"
   ]
  },
  {
   "cell_type": "code",
   "execution_count": null,
   "id": "0f5079fa",
   "metadata": {},
   "outputs": [],
   "source": [
    "#Get an idea about the dataset\n",
    "startup_dataset.head()"
   ]
  },
  {
   "cell_type": "markdown",
   "id": "aee9298c",
   "metadata": {},
   "source": [
    "# Dataset Info:"
   ]
  },
  {
   "cell_type": "code",
   "execution_count": null,
   "id": "604abce7",
   "metadata": {},
   "outputs": [],
   "source": [
    "#Check information related to the dataframe\n",
    "startup_dataset.info()"
   ]
  },
  {
   "cell_type": "code",
   "execution_count": null,
   "id": "7b6ae0f6",
   "metadata": {},
   "outputs": [],
   "source": [
    "#Check whether if there are any null values\n",
    "startup_dataset.isnull()"
   ]
  },
  {
   "cell_type": "code",
   "execution_count": null,
   "id": "60a82e34",
   "metadata": {},
   "outputs": [],
   "source": [
    "sum(startup_dataset.isnull().sum())"
   ]
  },
  {
   "cell_type": "code",
   "execution_count": null,
   "id": "a8972679",
   "metadata": {},
   "outputs": [],
   "source": [
    "#Display Missing values in a grid view\n",
    "nullValue=pd.DataFrame(startup_dataset.isnull().sum(),columns = [\"Null Values\"])\n",
    "nullValue[\"Missing Values (%)\"]=(startup_dataset.isna().sum() / len(startup_dataset)*100)\n",
    "nullValue = nullValue[nullValue[\"Missing Values (%)\"]  >  0]\n",
    "nullValue.style.background_gradient(cmap='magma',low =0.3,high=0.2) "
   ]
  },
  {
   "cell_type": "code",
   "execution_count": null,
   "id": "066a5b65",
   "metadata": {},
   "outputs": [],
   "source": [
    "#Handling Missing Values in 'Unnamed: 6', 'closed_at', 'age_first_milestone_year', 'age_last_milestone_year' columns\n",
    "startup_dataset['Unnamed: 6'] = startup_dataset.apply(lambda row: (row.city) + \" \" + (row.state_code) + \" \" +(row.zip_code)  , axis = 1)\n",
    "\n",
    "startup_dataset['closed_at'] = startup_dataset['closed_at'].fillna(value=\"31/12/2013\")\n",
    "\n",
    "startup_dataset['age_first_milestone_year'] = startup_dataset['age_first_milestone_year'].fillna(value=\"0\")\n",
    "\n",
    "startup_dataset['age_last_milestone_year'] = startup_dataset['age_last_milestone_year'].fillna(value=\"0\")"
   ]
  },
  {
   "cell_type": "code",
   "execution_count": null,
   "id": "727af40b",
   "metadata": {},
   "outputs": [],
   "source": [
    "#Handling Missing Values in 'state_code.1' column\n",
    "for index, row in startup_dataset.iterrows():\n",
    "    if row['state_code']!=row['state_code.1']:\n",
    "        print(index, row['state_code'], row['state_code.1'])\n",
    "        \n",
    "startup_dataset.drop([\"state_code.1\"], axis=1, inplace=True)"
   ]
  },
  {
   "cell_type": "code",
   "execution_count": null,
   "id": "2602e129",
   "metadata": {},
   "outputs": [],
   "source": [
    "#Graphical view of null values in the whole dataframe\n",
    "sns.heatmap(startup_dataset.isnull(),yticklabels=False, cbar=False, cmap='viridis')"
   ]
  },
  {
   "cell_type": "code",
   "execution_count": null,
   "id": "9f7a6399",
   "metadata": {},
   "outputs": [],
   "source": [
    "#Numerical value of the total number of null values in the data set\n",
    "total_null_values = sum(startup_dataset.isnull().sum())\n",
    "print(total_null_values)"
   ]
  },
  {
   "cell_type": "code",
   "execution_count": null,
   "id": "35c4eff3",
   "metadata": {},
   "outputs": [],
   "source": [
    "#Futher checking for null values \n",
    "print(startup_dataset.isnull().sum())"
   ]
  },
  {
   "cell_type": "code",
   "execution_count": null,
   "id": "ab83910f",
   "metadata": {},
   "outputs": [],
   "source": [
    "#Changing 'status' data value\n",
    "startup_dataset['status'] = startup_dataset.status.map({'acquired':1, 'closed':0})\n",
    "\n",
    "#Handling 'status' data type to int\n",
    "startup_dataset['status'].astype(int)"
   ]
  },
  {
   "cell_type": "code",
   "execution_count": null,
   "id": "7f57cb19",
   "metadata": {},
   "outputs": [],
   "source": [
    "#Handling 'age_first_milestone_year' and 'age_last_milestone_year' data type to float\n",
    "startup_dataset['age_first_milestone_year'] = startup_dataset.age_first_milestone_year.astype(float)\n",
    "startup_dataset['age_last_milestone_year'] = startup_dataset.age_last_milestone_year.astype(float)"
   ]
  },
  {
   "cell_type": "code",
   "execution_count": null,
   "id": "b07bb7d9",
   "metadata": {},
   "outputs": [],
   "source": [
    "#Visualize the count of startup status\n",
    "sns.countplot(x='status', data=startup_dataset)"
   ]
  },
  {
   "cell_type": "code",
   "execution_count": null,
   "id": "96345ca4",
   "metadata": {},
   "outputs": [],
   "source": [
    "#graphical representation related to category which has the largest no of startup\n",
    "fig, axi = plt.subplots(figsize=(12,8))\n",
    "\n",
    "_ = sns.countplot(x=\"category_code\", hue=\"status\", data=startup_dataset,\n",
    "              order=startup_dataset.category_code.value_counts().index)\n",
    "\n",
    "_ = axi.set_xticklabels(axi.get_xticklabels(), rotation=90)\n",
    "_ = axi.set(xlabel=\"Category\", ylabel=\"Number of startup\")\n",
    "plt.legend(bbox_to_anchor=(0.946, 0.91))\n"
   ]
  },
  {
   "cell_type": "code",
   "execution_count": null,
   "id": "624a8bf2",
   "metadata": {},
   "outputs": [],
   "source": [
    "#Visualize the category which has the largest number Success Rate\n",
    "\n",
    "startupData1 = startup_dataset[startup_dataset['status']==1].groupby(['category_code']).agg({'status':'count'}).reset_index()\n",
    "startupData1.columns=['category_code','total_success']\n",
    "\n",
    "startupData2 = startup_dataset[startup_dataset['status']==0].groupby(['category_code']).agg({'status':'count'}).reset_index()\n",
    "startupData2.columns=['category_code','total_closed']\n",
    "\n",
    "startupData3=startup_dataset.groupby(['category_code']).agg({'status':'count'}).reset_index()\n",
    "startupData3.columns=['category_code','total_startup']\n",
    "\n",
    "startupData1= startupData1.merge(startupData2, on='category_code')\n",
    "startupData1= startupData1.merge(startupData3, on='category_code')\n",
    "\n",
    "startupData1['success_rate']= round((startupData1['total_success'] / startupData1['total_startup']) * 100,2)\n",
    "\n",
    "most_succes_rate = startupData1.sort_values('success_rate', ascending=False)\n",
    "most_succes_rate\n",
    "\n",
    "fig, ax = plt.subplots(figsize=(10,7))\n",
    "_ = sns.barplot(x=\"category_code\", y=\"success_rate\", data=most_succes_rate,\n",
    "                palette=\"nipy_spectral\", ax=ax)\n",
    "_ = ax.set_xticklabels(ax.get_xticklabels(), rotation=90)\n",
    "_ = ax.set(xlabel=\"Category\", ylabel=\"Success Rate of Start Up\")"
   ]
  },
  {
   "cell_type": "code",
   "execution_count": null,
   "id": "56452c8a",
   "metadata": {},
   "outputs": [],
   "source": [
    "#graphical representation related to category has the largest number Success Rate\n",
    "sns.countplot(x='status',hue='is_top500', data=startup_dataset)"
   ]
  },
  {
   "cell_type": "code",
   "execution_count": null,
   "id": "a6be37e9",
   "metadata": {},
   "outputs": [],
   "source": [
    "#New column named as \"has_RoundABCD\"\n",
    "startup_dataset['has_RoundABCD'] = np.where((startup_dataset['has_roundA'] == 1) | (startup_dataset['has_roundB'] == 1) | (startup_dataset['has_roundC'] == 1) | (startup_dataset['has_roundD'] == 1), 1, 0)\n",
    "\n",
    "#New column named as \"has_Investor\"\n",
    "startup_dataset['has_Investor'] = np.where((startup_dataset['has_VC'] == 1) | (startup_dataset['has_angel'] == 1), 1, 0)\n",
    "\n",
    "#New column named as \"invalid_startup\"\n",
    "startup_dataset['invalid_startup'] = np.where((startup_dataset['has_RoundABCD'] == 0) & (startup_dataset['has_VC'] == 0) & (startup_dataset['has_angel'] == 0), 1, 0)\n",
    "\n",
    "#New column named as \"has_Seed\"\n",
    "startup_dataset['has_Seed'] = np.where((startup_dataset['has_RoundABCD'] == 0) & (startup_dataset['has_Investor'] == 1), 1, 0)\n",
    "\n",
    "startup_dataset.head()\n"
   ]
  },
  {
   "cell_type": "markdown",
   "id": "4a94c6fd",
   "metadata": {},
   "source": [
    "# Data Preprocessing"
   ]
  },
  {
   "cell_type": "code",
   "execution_count": null,
   "id": "3abce87b",
   "metadata": {},
   "outputs": [],
   "source": [
    "#Drop unwanted variables\n",
    "startup_dataset.drop(['state_code','id','Unnamed: 6','category_code','object_id','zip_code','founded_at','closed_at','first_funding_at','last_funding_at','city','name','Unnamed: 0','latitude','longitude','relationships'], axis=1, inplace=True)\n"
   ]
  },
  {
   "cell_type": "code",
   "execution_count": null,
   "id": "992ef7f8",
   "metadata": {},
   "outputs": [],
   "source": [
    "#View data set\n",
    "startup_dataset"
   ]
  },
  {
   "cell_type": "code",
   "execution_count": null,
   "id": "d91f1018",
   "metadata": {},
   "outputs": [],
   "source": [
    "#Get the copy of original data set as a training data set\n",
    "lbEncd = LabelEncoder()"
   ]
  },
  {
   "cell_type": "code",
   "execution_count": null,
   "id": "58346720",
   "metadata": {},
   "outputs": [],
   "source": [
    "startup_data_tf = startup_dataset.copy()\n",
    "\n",
    "for i in startup_dataset.columns :\n",
    "    startup_data_tf[i] = lbEncd.fit_transform(startup_dataset[i])"
   ]
  },
  {
   "cell_type": "code",
   "execution_count": null,
   "id": "3386257d",
   "metadata": {},
   "outputs": [],
   "source": [
    "startup_data_tf"
   ]
  },
  {
   "cell_type": "markdown",
   "id": "bdfb9636",
   "metadata": {},
   "source": [
    "# Features and Labels"
   ]
  },
  {
   "cell_type": "code",
   "execution_count": null,
   "id": "29f80658",
   "metadata": {},
   "outputs": [],
   "source": [
    "#Dataframe separate in to features and labels\n",
    "X = startup_data_tf.drop('status', axis=1)\n",
    "Y = startup_data_tf['status']"
   ]
  },
  {
   "cell_type": "markdown",
   "id": "987e89ce",
   "metadata": {},
   "source": [
    "# Train Test Split"
   ]
  },
  {
   "cell_type": "code",
   "execution_count": null,
   "id": "89340d8b",
   "metadata": {},
   "outputs": [],
   "source": [
    "X_train, X_test, Y_train, Y_test = train_test_split(X,Y,test_size=0.2,random_state=42)"
   ]
  },
  {
   "cell_type": "code",
   "execution_count": null,
   "id": "dda35977",
   "metadata": {},
   "outputs": [],
   "source": [
    "#Print slpited data set\n",
    "print(X_train.shape, '-> Training Feature Shape')\n",
    "print(X_test.shape, '-> Testing Feature Shape')\n",
    "print(Y_train.shape, '-> Training Labels Shape')\n",
    "print(Y_test.shape, '-> Testing Labels Shape')"
   ]
  },
  {
   "cell_type": "markdown",
   "id": "56589bee",
   "metadata": {},
   "source": [
    "# Build a Model"
   ]
  },
  {
   "cell_type": "code",
   "execution_count": null,
   "id": "640f9441",
   "metadata": {},
   "outputs": [],
   "source": [
    "#Create the model\n",
    "startup_model = RandomForestClassifier(bootstrap=False, max_depth=12, min_samples_leaf=100, min_samples_split=20,\n",
    "                       n_estimators=70,criterion='entropy',n_jobs=1000,max_leaf_nodes=100,max_features='auto')"
   ]
  }
 ],
 "metadata": {
  "kernelspec": {
   "display_name": "Python 3 (ipykernel)",
   "language": "python",
   "name": "python3"
  },
  "language_info": {
   "codemirror_mode": {
    "name": "ipython",
    "version": 3
   },
   "file_extension": ".py",
   "mimetype": "text/x-python",
   "name": "python",
   "nbconvert_exporter": "python",
   "pygments_lexer": "ipython3",
   "version": "3.9.7"
  }
 },
 "nbformat": 4,
 "nbformat_minor": 5
}
